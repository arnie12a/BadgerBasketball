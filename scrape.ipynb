{
 "cells": [
  {
   "cell_type": "code",
   "execution_count": null,
   "metadata": {},
   "outputs": [],
   "source": [
    "def getURL(year):\n",
    "    import pandas as pd\n",
    "    dfs = pd.read_html(f'https://www.sports-reference.com/cbb/schools/wisconsin/men/{year}.html')\n",
    "    per_game_player_stats = dfs[5]\n",
    "    about_players = dfs[0]\n",
    "    per_game_team_stats = dfs[1]\n",
    "    for col in per_game_team_stats.columns:\n",
    "        if \"Unnamed\" in col:\n",
    "            per_game_team_stats = per_game_team_stats.rename(columns={col: \"About\"})\n",
    "    each_game = pd.read_html(f'https://www.sports-reference.com/cbb/schools/wisconsin/men/{year}-gamelogs.html')[0]\n",
    "    each_game.columns = pd.MultiIndex.from_tuples(\n",
    "        [('About' if 'Unnamed' in level_0 else level_0, level_1) \n",
    "            for level_0, level_1 in each_game.columns],\n",
    "                names=each_game.columns.names\n",
    "        )\n",
    "    # level0_cols = ['About', 'Score', 'Opponent']\n",
    "    keep_cols = ['Gtm', 'Date', 'Opp', 'Type','Rslt','Tm','Opp','OT','FG','FGA','FG%','3P','3PA','3P%','2P','2PA','2P%','eFG%','FT','FTA','FT%','ORB','DRB','TRB','AST','STL','BLK','TOV','PF']\n",
    "    each_game.columns = each_game.columns.droplevel(0)\n",
    "    each_game = each_game[keep_cols]\n",
    "    return [about_players, per_game_team_stats, per_game_player_stats, each_game]\n"
   ]
  },
  {
   "cell_type": "code",
   "execution_count": 3,
   "metadata": {},
   "outputs": [
    {
     "name": "stdout",
     "output_type": "stream",
     "text": [
      "https://www.sports-reference.com/cbb/schools/wisconsin/men/2025.html\n",
      "https://www.sports-reference.com/cbb/schools/wisconsin/men/2025-gamelogs.html\n",
      "Data saved to data/about_players_2025.csv\n",
      "Data saved to data/per_game_team_stats_2025.csv\n",
      "Data saved to data/per_game_player_stats2025.csv\n",
      "Data saved to data/each_game_stats_2025.csv\n"
     ]
    }
   ],
   "source": [
    "import os\n",
    "import pandas as pd\n",
    "\n",
    "# Define the base directory\n",
    "base_dir = \"data\"\n",
    "os.makedirs(base_dir, exist_ok=True)  # Ensure base directory exists\n",
    "\n",
    "# Define the range of years\n",
    "years = range(2025, 2026)  # 2020 to 2025 inclusive\n",
    "\n",
    "# Process each year\n",
    "for year in years:\n",
    "    df1, df2, df3, df4 = getURL(year)\n",
    "\n",
    "    # Define CSV file paths with year in filename\n",
    "    file_names = [\n",
    "        f\"about_players_{year}.csv\",\n",
    "        f\"per_game_team_stats_{year}.csv\",\n",
    "        f\"per_game_player_stats{year}.csv\",\n",
    "        f\"each_game_stats_{year}.csv\"\n",
    "    ]\n",
    "    \n",
    "    dataframes = [df1, df2, df3, df4]\n",
    "\n",
    "    # Save each dataframe to CSV\n",
    "    for df, file_name in zip(dataframes, file_names):\n",
    "        csv_path = os.path.join(base_dir, file_name)\n",
    "        df.to_csv(csv_path, index=False)\n",
    "        print(f\"Data saved to {csv_path}\")\n"
   ]
  },
  {
   "cell_type": "code",
   "execution_count": null,
   "metadata": {},
   "outputs": [
    {
     "name": "stdout",
     "output_type": "stream",
     "text": [
      "Skipping file about_players_2021.csv, invalid format.\n",
      "Skipping file about_players_2020.csv, invalid format.\n",
      "Skipping file about_players_2022.csv, invalid format.\n",
      "Skipping file about_players_2023.csv, invalid format.\n",
      "Skipping file about_players_2024.csv, invalid format.\n",
      "Skipping file about_players_2025.csv, invalid format.\n"
     ]
    }
   ],
   "source": [
    "# Going to add year column to each csv\n",
    "import os\n",
    "import pandas as pd\n",
    "\n",
    "def add_season_year_to_csvs(folder_path):\n",
    "    # Loop through each file in the folder\n",
    "    for file_name in os.listdir(folder_path):\n",
    "        if file_name.endswith('.csv'):\n",
    "            # Extract the year from the file name\n",
    "            try:\n",
    "                \n",
    "                year_str = file_name.split('-')[0]\n",
    "                print(year_str)\n",
    "                season_year = str(int(year_str) - 1)\n",
    "\n",
    "                # Load the CSV file\n",
    "                file_path = os.path.join(folder_path, file_name)\n",
    "                df = pd.read_csv(file_path)\n",
    "\n",
    "                # Add the seasonYear column\n",
    "                df['seasonYear'] = season_year\n",
    "\n",
    "                # Save the updated CSV\n",
    "                df.to_csv(file_path, index=False)\n",
    "                print(f\"Updated {file_name} with seasonYear {season_year}\")\n",
    "            except ValueError:\n",
    "                print(f\"Skipping file {file_name}, invalid format.\")\n",
    "add_season_year_to_csvs('./data/about_players')"
   ]
  }
 ],
 "metadata": {
  "kernelspec": {
   "display_name": "Python 3",
   "language": "python",
   "name": "python3"
  },
  "language_info": {
   "codemirror_mode": {
    "name": "ipython",
    "version": 3
   },
   "file_extension": ".py",
   "mimetype": "text/x-python",
   "name": "python",
   "nbconvert_exporter": "python",
   "pygments_lexer": "ipython3",
   "version": "3.13.2"
  }
 },
 "nbformat": 4,
 "nbformat_minor": 2
}
