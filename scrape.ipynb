{
 "cells": [
  {
   "cell_type": "code",
   "execution_count": 2,
   "metadata": {},
   "outputs": [
    {
     "name": "stdout",
     "output_type": "stream",
     "text": [
      "hello world\n"
     ]
    }
   ],
   "source": [
    "print('hello world')"
   ]
  },
  {
   "cell_type": "code",
   "execution_count": 3,
   "metadata": {},
   "outputs": [],
   "source": [
    "import pandas as pd\n",
    "dfs = pd.read_html('https://www.sports-reference.com/cbb/schools/wisconsin/men/2021.html')\n"
   ]
  },
  {
   "cell_type": "code",
   "execution_count": 4,
   "metadata": {},
   "outputs": [
    {
     "data": {
      "text/plain": [
       "9"
      ]
     },
     "execution_count": 4,
     "metadata": {},
     "output_type": "execute_result"
    }
   ],
   "source": [
    "len(dfs)"
   ]
  },
  {
   "cell_type": "code",
   "execution_count": 29,
   "metadata": {},
   "outputs": [
    {
     "data": {
      "text/html": [
       "<div>\n",
       "<style scoped>\n",
       "    .dataframe tbody tr th:only-of-type {\n",
       "        vertical-align: middle;\n",
       "    }\n",
       "\n",
       "    .dataframe tbody tr th {\n",
       "        vertical-align: top;\n",
       "    }\n",
       "\n",
       "    .dataframe thead th {\n",
       "        text-align: right;\n",
       "    }\n",
       "</style>\n",
       "<table border=\"1\" class=\"dataframe\">\n",
       "  <thead>\n",
       "    <tr style=\"text-align: right;\">\n",
       "      <th></th>\n",
       "      <th>Rk</th>\n",
       "      <th>Player</th>\n",
       "      <th>Pos</th>\n",
       "      <th>G</th>\n",
       "      <th>GS</th>\n",
       "      <th>MP</th>\n",
       "      <th>FG</th>\n",
       "      <th>FGA</th>\n",
       "      <th>FG%</th>\n",
       "      <th>3P</th>\n",
       "      <th>...</th>\n",
       "      <th>ORB</th>\n",
       "      <th>DRB</th>\n",
       "      <th>TRB</th>\n",
       "      <th>AST</th>\n",
       "      <th>STL</th>\n",
       "      <th>BLK</th>\n",
       "      <th>TOV</th>\n",
       "      <th>PF</th>\n",
       "      <th>PTS</th>\n",
       "      <th>Awards</th>\n",
       "    </tr>\n",
       "  </thead>\n",
       "  <tbody>\n",
       "    <tr>\n",
       "      <th>0</th>\n",
       "      <td>1.0</td>\n",
       "      <td>D'Mitrik Trice</td>\n",
       "      <td>G</td>\n",
       "      <td>31</td>\n",
       "      <td>31</td>\n",
       "      <td>33.3</td>\n",
       "      <td>4.6</td>\n",
       "      <td>11.3</td>\n",
       "      <td>0.410</td>\n",
       "      <td>2.0</td>\n",
       "      <td>...</td>\n",
       "      <td>0.1</td>\n",
       "      <td>3.3</td>\n",
       "      <td>3.4</td>\n",
       "      <td>4.0</td>\n",
       "      <td>0.8</td>\n",
       "      <td>0.0</td>\n",
       "      <td>1.8</td>\n",
       "      <td>1.6</td>\n",
       "      <td>13.9</td>\n",
       "      <td>NaN</td>\n",
       "    </tr>\n",
       "    <tr>\n",
       "      <th>1</th>\n",
       "      <td>2.0</td>\n",
       "      <td>Micah Potter</td>\n",
       "      <td>F</td>\n",
       "      <td>31</td>\n",
       "      <td>20</td>\n",
       "      <td>22.2</td>\n",
       "      <td>4.5</td>\n",
       "      <td>9.0</td>\n",
       "      <td>0.504</td>\n",
       "      <td>1.3</td>\n",
       "      <td>...</td>\n",
       "      <td>1.8</td>\n",
       "      <td>4.1</td>\n",
       "      <td>5.9</td>\n",
       "      <td>1.4</td>\n",
       "      <td>0.5</td>\n",
       "      <td>0.7</td>\n",
       "      <td>1.4</td>\n",
       "      <td>2.0</td>\n",
       "      <td>12.5</td>\n",
       "      <td>NaN</td>\n",
       "    </tr>\n",
       "    <tr>\n",
       "      <th>2</th>\n",
       "      <td>3.0</td>\n",
       "      <td>Brad Davison</td>\n",
       "      <td>G</td>\n",
       "      <td>31</td>\n",
       "      <td>31</td>\n",
       "      <td>31.0</td>\n",
       "      <td>2.9</td>\n",
       "      <td>8.5</td>\n",
       "      <td>0.345</td>\n",
       "      <td>2.0</td>\n",
       "      <td>...</td>\n",
       "      <td>0.3</td>\n",
       "      <td>3.2</td>\n",
       "      <td>3.5</td>\n",
       "      <td>2.4</td>\n",
       "      <td>1.1</td>\n",
       "      <td>0.0</td>\n",
       "      <td>0.9</td>\n",
       "      <td>2.3</td>\n",
       "      <td>10.0</td>\n",
       "      <td>NaN</td>\n",
       "    </tr>\n",
       "    <tr>\n",
       "      <th>3</th>\n",
       "      <td>4.0</td>\n",
       "      <td>Aleem Ford</td>\n",
       "      <td>F</td>\n",
       "      <td>31</td>\n",
       "      <td>31</td>\n",
       "      <td>26.4</td>\n",
       "      <td>3.2</td>\n",
       "      <td>7.9</td>\n",
       "      <td>0.406</td>\n",
       "      <td>1.5</td>\n",
       "      <td>...</td>\n",
       "      <td>0.8</td>\n",
       "      <td>3.4</td>\n",
       "      <td>4.2</td>\n",
       "      <td>1.1</td>\n",
       "      <td>0.6</td>\n",
       "      <td>0.5</td>\n",
       "      <td>0.9</td>\n",
       "      <td>2.0</td>\n",
       "      <td>8.7</td>\n",
       "      <td>NaN</td>\n",
       "    </tr>\n",
       "    <tr>\n",
       "      <th>4</th>\n",
       "      <td>5.0</td>\n",
       "      <td>Nate Reuvers</td>\n",
       "      <td>F</td>\n",
       "      <td>31</td>\n",
       "      <td>24</td>\n",
       "      <td>21.0</td>\n",
       "      <td>3.2</td>\n",
       "      <td>7.7</td>\n",
       "      <td>0.420</td>\n",
       "      <td>0.6</td>\n",
       "      <td>...</td>\n",
       "      <td>1.0</td>\n",
       "      <td>2.3</td>\n",
       "      <td>3.3</td>\n",
       "      <td>0.7</td>\n",
       "      <td>0.3</td>\n",
       "      <td>1.3</td>\n",
       "      <td>1.0</td>\n",
       "      <td>2.2</td>\n",
       "      <td>8.3</td>\n",
       "      <td>NaN</td>\n",
       "    </tr>\n",
       "  </tbody>\n",
       "</table>\n",
       "<p>5 rows × 29 columns</p>\n",
       "</div>"
      ],
      "text/plain": [
       "    Rk          Player Pos   G  GS    MP   FG   FGA    FG%   3P  ...  ORB  \\\n",
       "0  1.0  D'Mitrik Trice   G  31  31  33.3  4.6  11.3  0.410  2.0  ...  0.1   \n",
       "1  2.0    Micah Potter   F  31  20  22.2  4.5   9.0  0.504  1.3  ...  1.8   \n",
       "2  3.0    Brad Davison   G  31  31  31.0  2.9   8.5  0.345  2.0  ...  0.3   \n",
       "3  4.0      Aleem Ford   F  31  31  26.4  3.2   7.9  0.406  1.5  ...  0.8   \n",
       "4  5.0    Nate Reuvers   F  31  24  21.0  3.2   7.7  0.420  0.6  ...  1.0   \n",
       "\n",
       "   DRB  TRB  AST  STL  BLK  TOV   PF   PTS  Awards  \n",
       "0  3.3  3.4  4.0  0.8  0.0  1.8  1.6  13.9     NaN  \n",
       "1  4.1  5.9  1.4  0.5  0.7  1.4  2.0  12.5     NaN  \n",
       "2  3.2  3.5  2.4  1.1  0.0  0.9  2.3  10.0     NaN  \n",
       "3  3.4  4.2  1.1  0.6  0.5  0.9  2.0   8.7     NaN  \n",
       "4  2.3  3.3  0.7  0.3  1.3  1.0  2.2   8.3     NaN  \n",
       "\n",
       "[5 rows x 29 columns]"
      ]
     },
     "execution_count": 29,
     "metadata": {},
     "output_type": "execute_result"
    }
   ],
   "source": [
    "df5 = dfs[5] # per game stats\n",
    "df5.head()"
   ]
  },
  {
   "cell_type": "code",
   "execution_count": 28,
   "metadata": {},
   "outputs": [
    {
     "data": {
      "text/html": [
       "<div>\n",
       "<style scoped>\n",
       "    .dataframe tbody tr th:only-of-type {\n",
       "        vertical-align: middle;\n",
       "    }\n",
       "\n",
       "    .dataframe tbody tr th {\n",
       "        vertical-align: top;\n",
       "    }\n",
       "\n",
       "    .dataframe thead th {\n",
       "        text-align: right;\n",
       "    }\n",
       "</style>\n",
       "<table border=\"1\" class=\"dataframe\">\n",
       "  <thead>\n",
       "    <tr style=\"text-align: right;\">\n",
       "      <th></th>\n",
       "      <th>Player</th>\n",
       "      <th>#</th>\n",
       "      <th>Class</th>\n",
       "      <th>Pos</th>\n",
       "      <th>Height</th>\n",
       "      <th>Weight</th>\n",
       "      <th>Hometown</th>\n",
       "      <th>High School</th>\n",
       "      <th>RSCI Top 100</th>\n",
       "      <th>Summary</th>\n",
       "    </tr>\n",
       "  </thead>\n",
       "  <tbody>\n",
       "    <tr>\n",
       "      <th>0</th>\n",
       "      <td>D'Mitrik Trice</td>\n",
       "      <td>0</td>\n",
       "      <td>SR</td>\n",
       "      <td>G</td>\n",
       "      <td>6-0</td>\n",
       "      <td>184</td>\n",
       "      <td>Huber Heights, OH</td>\n",
       "      <td>IMG Academy</td>\n",
       "      <td>NaN</td>\n",
       "      <td>13.9 Pts, 3.4 Reb, 4.0 Ast</td>\n",
       "    </tr>\n",
       "    <tr>\n",
       "      <th>1</th>\n",
       "      <td>Micah Potter</td>\n",
       "      <td>11</td>\n",
       "      <td>SR</td>\n",
       "      <td>F</td>\n",
       "      <td>6-10</td>\n",
       "      <td>248</td>\n",
       "      <td>Mentor, OH</td>\n",
       "      <td>Mentor High School</td>\n",
       "      <td>NaN</td>\n",
       "      <td>12.5 Pts, 5.9 Reb, 1.4 Ast</td>\n",
       "    </tr>\n",
       "    <tr>\n",
       "      <th>2</th>\n",
       "      <td>Brad Davison</td>\n",
       "      <td>34</td>\n",
       "      <td>SR</td>\n",
       "      <td>G</td>\n",
       "      <td>6-4</td>\n",
       "      <td>202</td>\n",
       "      <td>Maple Grove, MN</td>\n",
       "      <td>Maple Grove Senior High School</td>\n",
       "      <td>NaN</td>\n",
       "      <td>10.0 Pts, 3.5 Reb, 2.4 Ast</td>\n",
       "    </tr>\n",
       "    <tr>\n",
       "      <th>3</th>\n",
       "      <td>Aleem Ford</td>\n",
       "      <td>2</td>\n",
       "      <td>SR</td>\n",
       "      <td>F</td>\n",
       "      <td>6-8</td>\n",
       "      <td>217</td>\n",
       "      <td>Lawrenceville, GA</td>\n",
       "      <td>IMG Academy</td>\n",
       "      <td>NaN</td>\n",
       "      <td>8.7 Pts, 4.2 Reb, 1.1 Ast</td>\n",
       "    </tr>\n",
       "    <tr>\n",
       "      <th>4</th>\n",
       "      <td>Nate Reuvers</td>\n",
       "      <td>35</td>\n",
       "      <td>SR</td>\n",
       "      <td>F</td>\n",
       "      <td>6-11</td>\n",
       "      <td>235</td>\n",
       "      <td>Lakeville, MN</td>\n",
       "      <td>Lakeville North High School</td>\n",
       "      <td>68 (2017)</td>\n",
       "      <td>8.3 Pts, 3.3 Reb, 0.7 Ast</td>\n",
       "    </tr>\n",
       "  </tbody>\n",
       "</table>\n",
       "</div>"
      ],
      "text/plain": [
       "           Player   # Class Pos Height  Weight           Hometown  \\\n",
       "0  D'Mitrik Trice   0    SR   G    6-0     184  Huber Heights, OH   \n",
       "1    Micah Potter  11    SR   F   6-10     248         Mentor, OH   \n",
       "2    Brad Davison  34    SR   G    6-4     202    Maple Grove, MN   \n",
       "3      Aleem Ford   2    SR   F    6-8     217  Lawrenceville, GA   \n",
       "4    Nate Reuvers  35    SR   F   6-11     235      Lakeville, MN   \n",
       "\n",
       "                      High School RSCI Top 100                     Summary  \n",
       "0                     IMG Academy          NaN  13.9 Pts, 3.4 Reb, 4.0 Ast  \n",
       "1              Mentor High School          NaN  12.5 Pts, 5.9 Reb, 1.4 Ast  \n",
       "2  Maple Grove Senior High School          NaN  10.0 Pts, 3.5 Reb, 2.4 Ast  \n",
       "3                     IMG Academy          NaN   8.7 Pts, 4.2 Reb, 1.1 Ast  \n",
       "4     Lakeville North High School    68 (2017)   8.3 Pts, 3.3 Reb, 0.7 Ast  "
      ]
     },
     "execution_count": 28,
     "metadata": {},
     "output_type": "execute_result"
    }
   ],
   "source": [
    "df0 = dfs[0] # about the players\n",
    "df0.head()"
   ]
  },
  {
   "cell_type": "code",
   "execution_count": null,
   "metadata": {},
   "outputs": [],
   "source": [
    "def getURL(year):\n",
    "    import pandas as pd\n",
    "    dfs = pd.read_html(f'https://www.sports-reference.com/cbb/schools/wisconsin/men/{year}.html')\n",
    "    per_game_player_stats = dfs[5]\n",
    "    about_players = dfs[0]\n",
    "    per_game_team_stats = dfs[1]\n",
    "    for col in per_game_team_stats.columns:\n",
    "        if \"Unnamed\" in col:\n",
    "            per_game_team_stats = per_game_team_stats.rename(columns={col: \"About\"})\n",
    "    each_game = pd.read_html(f'https://www.sports-reference.com/cbb/schools/wisconsin/men/{year}-gamelogs.html')[0]\n",
    "    each_game.columns = pd.MultiIndex.from_tuples(\n",
    "        [('About' if 'Unnamed' in level_0 else level_0, level_1) \n",
    "            for level_0, level_1 in each_game.columns],\n",
    "                names=each_game.columns.names\n",
    "        )\n",
    "    # level0_cols = ['About', 'Score', 'Opponent']\n",
    "    keep_cols = ['Gtm', 'Date', 'Opp', 'Type','Rslt','Tm','Opp','OT','FG','FGA','FG%','3P','3PA','3P%','2P','2PA','2P%','eFG%','FT','FTA','FT%','ORB','DRB','TRB','AST','STL','BLK','TOV','PF']\n",
    "    each_game.columns = each_game.columns.droplevel(0)\n",
    "    each_game = each_game[keep_cols]\n",
    "    return [about_players, per_game_team_stats, per_game_player_stats, each_game]\n"
   ]
  },
  {
   "cell_type": "code",
   "execution_count": 22,
   "metadata": {},
   "outputs": [
    {
     "data": {
      "text/plain": [
       "Index(['Unnamed: 0', 'G', 'MP', 'FG', 'FGA', 'FG%', '2P', '2PA', '2P%', '3P',\n",
       "       '3PA', '3P%', 'FT', 'FTA', 'FT%', 'ORB', 'DRB', 'TRB', 'AST', 'STL',\n",
       "       'BLK', 'TOV', 'PF', 'PTS'],\n",
       "      dtype='object')"
      ]
     },
     "execution_count": 22,
     "metadata": {},
     "output_type": "execute_result"
    }
   ],
   "source": [
    "df1 = dfs[1] # per game team and opponent stats\n",
    "df1.columns"
   ]
  },
  {
   "cell_type": "code",
   "execution_count": null,
   "metadata": {},
   "outputs": [],
   "source": []
  },
  {
   "cell_type": "code",
   "execution_count": 9,
   "metadata": {},
   "outputs": [],
   "source": [
    "game_log_df = pd.read_html(f'https://www.sports-reference.com/cbb/schools/wisconsin/men/2022-gamelogs.html')\n"
   ]
  },
  {
   "cell_type": "code",
   "execution_count": 33,
   "metadata": {},
   "outputs": [
    {
     "data": {
      "text/plain": [
       "0    1\n",
       "1    2\n",
       "2    3\n",
       "3    4\n",
       "4    5\n",
       "Name: Rk, dtype: object"
      ]
     },
     "execution_count": 33,
     "metadata": {},
     "output_type": "execute_result"
    }
   ],
   "source": [
    "each_game = game_log_df[0] # about each game\n",
    "each_game.columns = pd.MultiIndex.from_tuples(\n",
    "    [('About' if 'Unnamed' in level_0 else level_0, level_1) \n",
    "        for level_0, level_1 in each_game.columns],\n",
    "            names=each_game.columns.names\n",
    "    )\n",
    "level0_cols = ['About', 'Score', 'Opponent']\n",
    "each_game.head()['About']['Rk']"
   ]
  },
  {
   "cell_type": "code",
   "execution_count": 39,
   "metadata": {},
   "outputs": [
    {
     "ename": "TypeError",
     "evalue": "list indices must be integers or slices, not list",
     "output_type": "error",
     "traceback": [
      "\u001b[1;31m---------------------------------------------------------------------------\u001b[0m",
      "\u001b[1;31mTypeError\u001b[0m                                 Traceback (most recent call last)",
      "Cell \u001b[1;32mIn[39], line 13\u001b[0m\n\u001b[0;32m     11\u001b[0m \u001b[38;5;66;03m# Process each year\u001b[39;00m\n\u001b[0;32m     12\u001b[0m \u001b[38;5;28;01mfor\u001b[39;00m year \u001b[38;5;129;01min\u001b[39;00m years:\n\u001b[1;32m---> 13\u001b[0m     df1, df2, df3, df4 \u001b[38;5;241m=\u001b[39m getURL(year)\n\u001b[0;32m     15\u001b[0m     \u001b[38;5;66;03m# Define CSV file paths with year in filename\u001b[39;00m\n\u001b[0;32m     16\u001b[0m     file_names \u001b[38;5;241m=\u001b[39m [\n\u001b[0;32m     17\u001b[0m         \u001b[38;5;124mf\u001b[39m\u001b[38;5;124m\"\u001b[39m\u001b[38;5;124mabout_players_\u001b[39m\u001b[38;5;132;01m{\u001b[39;00myear\u001b[38;5;132;01m}\u001b[39;00m\u001b[38;5;124m.csv\u001b[39m\u001b[38;5;124m\"\u001b[39m,\n\u001b[0;32m     18\u001b[0m         \u001b[38;5;124mf\u001b[39m\u001b[38;5;124m\"\u001b[39m\u001b[38;5;124mper_game_team_stats_\u001b[39m\u001b[38;5;132;01m{\u001b[39;00myear\u001b[38;5;132;01m}\u001b[39;00m\u001b[38;5;124m.csv\u001b[39m\u001b[38;5;124m\"\u001b[39m,\n\u001b[0;32m     19\u001b[0m         \u001b[38;5;124mf\u001b[39m\u001b[38;5;124m\"\u001b[39m\u001b[38;5;124mper_game_player_stats\u001b[39m\u001b[38;5;132;01m{\u001b[39;00myear\u001b[38;5;132;01m}\u001b[39;00m\u001b[38;5;124m.csv\u001b[39m\u001b[38;5;124m\"\u001b[39m,\n\u001b[0;32m     20\u001b[0m         \u001b[38;5;124mf\u001b[39m\u001b[38;5;124m\"\u001b[39m\u001b[38;5;124meach_game_stats_\u001b[39m\u001b[38;5;132;01m{\u001b[39;00myear\u001b[38;5;132;01m}\u001b[39;00m\u001b[38;5;124m.csv\u001b[39m\u001b[38;5;124m\"\u001b[39m\n\u001b[0;32m     21\u001b[0m     ]\n",
      "Cell \u001b[1;32mIn[38], line 18\u001b[0m, in \u001b[0;36mgetURL\u001b[1;34m(year)\u001b[0m\n\u001b[0;32m     16\u001b[0m level0_cols \u001b[38;5;241m=\u001b[39m [\u001b[38;5;124m'\u001b[39m\u001b[38;5;124mAbout\u001b[39m\u001b[38;5;124m'\u001b[39m, \u001b[38;5;124m'\u001b[39m\u001b[38;5;124mScore\u001b[39m\u001b[38;5;124m'\u001b[39m, \u001b[38;5;124m'\u001b[39m\u001b[38;5;124mOpponent\u001b[39m\u001b[38;5;124m'\u001b[39m]\n\u001b[0;32m     17\u001b[0m level1_cols \u001b[38;5;241m=\u001b[39m [\u001b[38;5;124m'\u001b[39m\u001b[38;5;124mGtm\u001b[39m\u001b[38;5;124m'\u001b[39m, \u001b[38;5;124m'\u001b[39m\u001b[38;5;124mDate\u001b[39m\u001b[38;5;124m'\u001b[39m, \u001b[38;5;124m'\u001b[39m\u001b[38;5;124mOpp\u001b[39m\u001b[38;5;124m'\u001b[39m, \u001b[38;5;124m'\u001b[39m\u001b[38;5;124mType\u001b[39m\u001b[38;5;124m'\u001b[39m,\u001b[38;5;124m'\u001b[39m\u001b[38;5;124mRslt\u001b[39m\u001b[38;5;124m'\u001b[39m,\u001b[38;5;124m'\u001b[39m\u001b[38;5;124mTm\u001b[39m\u001b[38;5;124m'\u001b[39m,\u001b[38;5;124m'\u001b[39m\u001b[38;5;124mOpp\u001b[39m\u001b[38;5;124m'\u001b[39m,\u001b[38;5;124m'\u001b[39m\u001b[38;5;124mOT\u001b[39m\u001b[38;5;124m'\u001b[39m,\u001b[38;5;124m'\u001b[39m\u001b[38;5;124mFG\u001b[39m\u001b[38;5;124m'\u001b[39m,\u001b[38;5;124m'\u001b[39m\u001b[38;5;124mFGA\u001b[39m\u001b[38;5;124m'\u001b[39m,\u001b[38;5;124m'\u001b[39m\u001b[38;5;124mFG\u001b[39m\u001b[38;5;124m%\u001b[39m\u001b[38;5;124m'\u001b[39m,\u001b[38;5;124m'\u001b[39m\u001b[38;5;124m3P\u001b[39m\u001b[38;5;124m'\u001b[39m,\u001b[38;5;124m'\u001b[39m\u001b[38;5;124m3PA\u001b[39m\u001b[38;5;124m'\u001b[39m,\u001b[38;5;124m'\u001b[39m\u001b[38;5;124m3P\u001b[39m\u001b[38;5;124m%\u001b[39m\u001b[38;5;124m'\u001b[39m,\u001b[38;5;124m'\u001b[39m\u001b[38;5;124m2P\u001b[39m\u001b[38;5;124m'\u001b[39m,\u001b[38;5;124m'\u001b[39m\u001b[38;5;124m2PA\u001b[39m\u001b[38;5;124m'\u001b[39m,\u001b[38;5;124m'\u001b[39m\u001b[38;5;124m2P\u001b[39m\u001b[38;5;124m%\u001b[39m\u001b[38;5;124m'\u001b[39m,\u001b[38;5;124m'\u001b[39m\u001b[38;5;124meFG\u001b[39m\u001b[38;5;124m%\u001b[39m\u001b[38;5;124m'\u001b[39m,\u001b[38;5;124m'\u001b[39m\u001b[38;5;124mFT\u001b[39m\u001b[38;5;124m'\u001b[39m,\u001b[38;5;124m'\u001b[39m\u001b[38;5;124mFTA\u001b[39m\u001b[38;5;124m'\u001b[39m,\u001b[38;5;124m'\u001b[39m\u001b[38;5;124mFT\u001b[39m\u001b[38;5;124m%\u001b[39m\u001b[38;5;124m'\u001b[39m,\u001b[38;5;124m'\u001b[39m\u001b[38;5;124mORB\u001b[39m\u001b[38;5;124m'\u001b[39m,\u001b[38;5;124m'\u001b[39m\u001b[38;5;124mDRB\u001b[39m\u001b[38;5;124m'\u001b[39m,\u001b[38;5;124m'\u001b[39m\u001b[38;5;124mTRB\u001b[39m\u001b[38;5;124m'\u001b[39m,\u001b[38;5;124m'\u001b[39m\u001b[38;5;124mAST\u001b[39m\u001b[38;5;124m'\u001b[39m,\u001b[38;5;124m'\u001b[39m\u001b[38;5;124mSTL\u001b[39m\u001b[38;5;124m'\u001b[39m,\u001b[38;5;124m'\u001b[39m\u001b[38;5;124mBLK\u001b[39m\u001b[38;5;124m'\u001b[39m,\u001b[38;5;124m'\u001b[39m\u001b[38;5;124mTOV\u001b[39m\u001b[38;5;124m'\u001b[39m,\u001b[38;5;124m'\u001b[39m\u001b[38;5;124mPF\u001b[39m\u001b[38;5;124m'\u001b[39m]\n\u001b[1;32m---> 18\u001b[0m each_game \u001b[38;5;241m=\u001b[39m each_game[level0_cols[level1_cols]]\n\u001b[0;32m     19\u001b[0m \u001b[38;5;28;01mreturn\u001b[39;00m [about_players, per_game_team_stats, per_game_player_stats, each_game]\n",
      "\u001b[1;31mTypeError\u001b[0m: list indices must be integers or slices, not list"
     ]
    }
   ],
   "source": [
    "import os\n",
    "import pandas as pd\n",
    "\n",
    "# Define the base directory\n",
    "base_dir = \"data\"\n",
    "os.makedirs(base_dir, exist_ok=True)  # Ensure base directory exists\n",
    "\n",
    "# Define the range of years\n",
    "years = range(2020, 2025)  # 2020 to 2025 inclusive\n",
    "\n",
    "# Process each year\n",
    "for year in years:\n",
    "    df1, df2, df3, df4 = getURL(year)\n",
    "\n",
    "    # Define CSV file paths with year in filename\n",
    "    file_names = [\n",
    "        f\"about_players_{year}.csv\",\n",
    "        f\"per_game_team_stats_{year}.csv\",\n",
    "        f\"per_game_player_stats{year}.csv\",\n",
    "        f\"each_game_stats_{year}.csv\"\n",
    "    ]\n",
    "    \n",
    "    dataframes = [df1, df2, df3, df4]\n",
    "\n",
    "    # Save each dataframe to CSV\n",
    "    for df, file_name in zip(dataframes, file_names):\n",
    "        csv_path = os.path.join(base_dir, file_name)\n",
    "        df.to_csv(csv_path, index=False)\n",
    "        print(f\"Data saved to {csv_path}\")\n"
   ]
  },
  {
   "cell_type": "code",
   "execution_count": null,
   "metadata": {},
   "outputs": [],
   "source": []
  }
 ],
 "metadata": {
  "kernelspec": {
   "display_name": "base",
   "language": "python",
   "name": "python3"
  },
  "language_info": {
   "codemirror_mode": {
    "name": "ipython",
    "version": 3
   },
   "file_extension": ".py",
   "mimetype": "text/x-python",
   "name": "python",
   "nbconvert_exporter": "python",
   "pygments_lexer": "ipython3",
   "version": "3.11.5"
  }
 },
 "nbformat": 4,
 "nbformat_minor": 2
}
