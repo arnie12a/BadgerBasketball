{
 "cells": [
  {
   "cell_type": "code",
   "execution_count": null,
   "metadata": {},
   "outputs": [],
   "source": [
    "def getURL(year):\n",
    "    import pandas as pd\n",
    "    dfs = pd.read_html(f'https://www.sports-reference.com/cbb/schools/wisconsin/men/{year}.html')\n",
    "    per_game_player_stats = dfs[5]\n",
    "    about_players = dfs[0]\n",
    "    per_game_team_stats = dfs[1]\n",
    "    for col in per_game_team_stats.columns:\n",
    "        if \"Unnamed\" in col:\n",
    "            per_game_team_stats = per_game_team_stats.rename(columns={col: \"About\"})\n",
    "    each_game = pd.read_html(f'https://www.sports-reference.com/cbb/schools/wisconsin/men/{year}-gamelogs.html')[0]\n",
    "    each_game.columns = pd.MultiIndex.from_tuples(\n",
    "        [('About' if 'Unnamed' in level_0 else level_0, level_1) \n",
    "            for level_0, level_1 in each_game.columns],\n",
    "                names=each_game.columns.names\n",
    "        )\n",
    "    # level0_cols = ['About', 'Score', 'Opponent']\n",
    "    keep_cols = ['Gtm', 'Date', 'Opp', 'Type','Rslt','Tm','Opp','OT','FG','FGA','FG%','3P','3PA','3P%','2P','2PA','2P%','eFG%','FT','FTA','FT%','ORB','DRB','TRB','AST','STL','BLK','TOV','PF']\n",
    "    each_game.columns = each_game.columns.droplevel(0)\n",
    "    each_game = each_game[keep_cols]\n",
    "    return [about_players, per_game_team_stats, per_game_player_stats, each_game]\n"
   ]
  },
  {
   "cell_type": "code",
   "execution_count": 3,
   "metadata": {},
   "outputs": [
    {
     "name": "stdout",
     "output_type": "stream",
     "text": [
      "https://www.sports-reference.com/cbb/schools/wisconsin/men/2025.html\n",
      "https://www.sports-reference.com/cbb/schools/wisconsin/men/2025-gamelogs.html\n",
      "Data saved to data/about_players_2025.csv\n",
      "Data saved to data/per_game_team_stats_2025.csv\n",
      "Data saved to data/per_game_player_stats2025.csv\n",
      "Data saved to data/each_game_stats_2025.csv\n"
     ]
    }
   ],
   "source": [
    "import os\n",
    "import pandas as pd\n",
    "\n",
    "# Define the base directory\n",
    "base_dir = \"data\"\n",
    "os.makedirs(base_dir, exist_ok=True)  # Ensure base directory exists\n",
    "\n",
    "# Define the range of years\n",
    "years = range(2025, 2026)  # 2020 to 2025 inclusive\n",
    "\n",
    "# Process each year\n",
    "for year in years:\n",
    "    df1, df2, df3, df4 = getURL(year)\n",
    "\n",
    "    # Define CSV file paths with year in filename\n",
    "    file_names = [\n",
    "        f\"about_players_{year}.csv\",\n",
    "        f\"per_game_team_stats_{year}.csv\",\n",
    "        f\"per_game_player_stats{year}.csv\",\n",
    "        f\"each_game_stats_{year}.csv\"\n",
    "    ]\n",
    "    \n",
    "    dataframes = [df1, df2, df3, df4]\n",
    "\n",
    "    # Save each dataframe to CSV\n",
    "    for df, file_name in zip(dataframes, file_names):\n",
    "        csv_path = os.path.join(base_dir, file_name)\n",
    "        df.to_csv(csv_path, index=False)\n",
    "        print(f\"Data saved to {csv_path}\")\n"
   ]
  },
  {
   "cell_type": "code",
   "execution_count": null,
   "metadata": {},
   "outputs": [],
   "source": [
    "# Going to add year column to each csv\n",
    "import os\n",
    "import pandas as pd\n",
    "\n",
    "def combine_data(folder_path):\n",
    "    # Loop through each file in the folder\n",
    "    for file_name in os.listdir(folder_path):\n",
    "        if file_name.endswith('.csv'):\n",
    "            # Extract the year from the file name\n",
    "            try:\n",
    "                \n",
    "                year_str = file_name.split('-')[0][-8:-4]\n",
    "                season_year = str(int(year_str))\n",
    "\n",
    "                # Load the CSV file\n",
    "                file_path = os.path.join(folder_path, file_name)\n",
    "                df = pd.read_csv(file_path)\n",
    "\n",
    "                # Add the seasonYear column\n",
    "                df['seasonYear'] = season_year\n",
    "\n",
    "                # Save the updated CSV\n",
    "                df.to_csv(file_path, index=False)\n",
    "                print(f\"Updated {file_name} with seasonYear {season_year}\")\n",
    "            except ValueError:\n",
    "                print(f\"Skipping file {file_name}, invalid format.\")"
   ]
  },
  {
   "cell_type": "code",
   "execution_count": 1,
   "metadata": {},
   "outputs": [],
   "source": [
    "# add_season_year_to_csvs('./data/about_players')\n",
    "# add_season_year_to_csvs('./data/each_game_stats')\n",
    "# add_season_year_to_csvs('./data/per_game_player_stats')\n",
    "# add_season_year_to_csvs('./data/per_game_team_stats')"
   ]
  },
  {
   "cell_type": "code",
   "execution_count": null,
   "metadata": {},
   "outputs": [
    {
     "name": "stdout",
     "output_type": "stream",
     "text": [
      "Processed per_game_team_stats_2023.csv\n",
      "Processed per_game_team_stats_2022.csv\n",
      "Processed per_game_team_stats_2020.csv\n",
      "Processed per_game_team_stats_2021.csv\n",
      "Processed per_game_team_stats_2025.csv\n",
      "Processed per_game_team_stats_2024.csv\n",
      "Successfully saved to ./data/per_game_team_stats/per_game_team_stats.csv\n"
     ]
    }
   ],
   "source": [
    "# Combine year data into one csv\n",
    "import os\n",
    "import pandas as pd\n",
    "\n",
    "def concat_season_csvs(folder_path, output_file_name):\n",
    "    all_data = []  # List to hold DataFrames\n",
    "\n",
    "    # Loop through each CSV file in the folder\n",
    "    for file_name in os.listdir(folder_path):\n",
    "        if file_name.endswith('.csv'):\n",
    "            try:\n",
    "                # Load the CSV file\n",
    "                file_path = os.path.join(folder_path, file_name)\n",
    "                df = pd.read_csv(file_path)\n",
    "\n",
    "                # Extract the season year from the file name\n",
    "                year_str = file_name.split('-')[0][-8:-4]\n",
    "                season_year = str(int(year_str))\n",
    "                df['seasonYear'] = season_year\n",
    "\n",
    "                # Add DataFrame to the list\n",
    "                all_data.append(df)\n",
    "                print(f\"Processed {file_name}\")\n",
    "\n",
    "            except ValueError:\n",
    "                print(f\"Skipping {file_name}, invalid format.\")\n",
    "\n",
    "    # Concatenate all DataFrames\n",
    "    if all_data:\n",
    "        combined_df = pd.concat(all_data, ignore_index=True)\n",
    "\n",
    "        # Remove year from output file name\n",
    "        output_file_path = os.path.join(folder_path, output_file_name)\n",
    "\n",
    "        # Save the combined DataFrame\n",
    "        combined_df.to_csv(output_file_path, index=False)\n",
    "        print(f\"Successfully saved to {output_file_path}\")\n",
    "    else:\n",
    "        print(\"No valid CSV files found to concatenate.\")\n",
    "\n",
    "# Example usage\n",
    "folder_path = \"./data/per_game_team_stats\"\n",
    "output_file_name = \"per_game_team_stats.csv\"  # Exclude the year\n",
    "# concat_season_csvs(folder_path, output_file_name)\n"
   ]
  },
  {
   "cell_type": "code",
   "execution_count": null,
   "metadata": {},
   "outputs": [],
   "source": []
  }
 ],
 "metadata": {
  "kernelspec": {
   "display_name": "Python 3",
   "language": "python",
   "name": "python3"
  },
  "language_info": {
   "codemirror_mode": {
    "name": "ipython",
    "version": 3
   },
   "file_extension": ".py",
   "mimetype": "text/x-python",
   "name": "python",
   "nbconvert_exporter": "python",
   "pygments_lexer": "ipython3",
   "version": "3.13.2"
  }
 },
 "nbformat": 4,
 "nbformat_minor": 2
}
